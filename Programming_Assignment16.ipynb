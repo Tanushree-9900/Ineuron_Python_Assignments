{
 "cells": [
  {
   "cell_type": "code",
   "execution_count": null,
   "id": "247d4f39-1bb3-4e95-8c25-3cc80d443c10",
   "metadata": {},
   "outputs": [],
   "source": [
    "Create a list called years_list, starting with the year of your birth, and each year thereafter until\n",
    "the year of your fifth birthday. For example, if you were born in 1980. the list would be years_list =\n",
    "[1980, 1981, 1982, 1983, 1984, 1985]."
   ]
  },
  {
   "cell_type": "code",
   "execution_count": null,
   "id": "eb73a818-87d5-44ef-8373-f4ca8650fb9f",
   "metadata": {},
   "outputs": [],
   "source": [
    "years_list = [i for i in range(1997,1997+6)]\n",
    "years_list"
   ]
  },
  {
   "cell_type": "code",
   "execution_count": null,
   "id": "2787605f-e851-4c19-ac93-c2cfe9c2be3e",
   "metadata": {},
   "outputs": [],
   "source": [
    "In which year in years_list was your third birthday? Remember, you were 0 years of age for your\n",
    "first year."
   ]
  },
  {
   "cell_type": "code",
   "execution_count": null,
   "id": "6dffa931-3756-4e5c-820c-09203c3fceb3",
   "metadata": {},
   "outputs": [],
   "source": [
    "years_list[3]"
   ]
  },
  {
   "cell_type": "code",
   "execution_count": null,
   "id": "5884b611-eca2-41b9-acd8-5be319641cca",
   "metadata": {},
   "outputs": [],
   "source": [
    "3.In the years list, which year were you the oldest?"
   ]
  },
  {
   "cell_type": "code",
   "execution_count": null,
   "id": "e44179b5-147b-47bb-920e-1e807dccd1b4",
   "metadata": {},
   "outputs": [],
   "source": [
    "max(years_list)"
   ]
  },
  {
   "cell_type": "code",
   "execution_count": null,
   "id": "ae215752-a4b8-49ff-b86d-d9f9b07da702",
   "metadata": {},
   "outputs": [],
   "source": [
    "Make a list called things with these three strings as elements: 'mozzarella', 'cinderella','salmonella'."
   ]
  },
  {
   "cell_type": "code",
   "execution_count": null,
   "id": "a9a6ae63-f19a-41ce-80ea-8d48a7991ac2",
   "metadata": {},
   "outputs": [],
   "source": [
    "things = list(['mozzarella', 'cinderella','salmonella'])\n",
    "things"
   ]
  },
  {
   "cell_type": "code",
   "execution_count": null,
   "id": "37797e27-7cfc-4227-ac3c-cfce6e413487",
   "metadata": {},
   "outputs": [],
   "source": [
    "Capitalize the element in things that refers to a person and then print the list. Did it change the element in the list?"
   ]
  },
  {
   "cell_type": "code",
   "execution_count": null,
   "id": "f04c8a8d-d8c0-4b95-b1ca-f50e6e994df6",
   "metadata": {},
   "outputs": [],
   "source": [
    "for i in things:\n",
    "    print(i.capitalize())\n",
    "things\n",
    "#Capitalize() will not update the list original values."
   ]
  },
  {
   "cell_type": "code",
   "execution_count": null,
   "id": "ab243dc4-ee87-4008-8531-c46e895db328",
   "metadata": {},
   "outputs": [],
   "source": [
    "Make a surprise list with the elements \"Groucho\", \"Chico\", and \"Harpo\""
   ]
  },
  {
   "cell_type": "code",
   "execution_count": null,
   "id": "e798a3e2-7596-40b6-b287-42fed4406d95",
   "metadata": {},
   "outputs": [],
   "source": [
    "surprise_list = [\"Groucho\", \"Chico\", \"Harpo\"]\n",
    "surprise_list"
   ]
  },
  {
   "cell_type": "code",
   "execution_count": null,
   "id": "994d4db0-41b0-4074-96ae-9c12ec9a8277",
   "metadata": {},
   "outputs": [],
   "source": [
    " Lowercase the last element of the surprise list, reverse it, and then capitalize it."
   ]
  },
  {
   "cell_type": "code",
   "execution_count": null,
   "id": "8b02afd2-d726-4dc3-9706-8fd63ea0daac",
   "metadata": {},
   "outputs": [],
   "source": [
    "surprise_list[-1].lower()"
   ]
  },
  {
   "cell_type": "code",
   "execution_count": null,
   "id": "327b5e1c-3ec8-4e26-85fb-c64dd2f76ba8",
   "metadata": {},
   "outputs": [],
   "source": [
    "surprise_list[-1][::-1]"
   ]
  },
  {
   "cell_type": "code",
   "execution_count": null,
   "id": "e5005204-a77f-49bd-94b1-7f42821f0cfa",
   "metadata": {},
   "outputs": [],
   "source": [
    "surprise_list[-1][::-1].upper()"
   ]
  },
  {
   "cell_type": "code",
   "execution_count": null,
   "id": "5866b12a-aa07-4778-b0fd-347446656121",
   "metadata": {},
   "outputs": [],
   "source": [
    "#Make an English-to-French dictionary called e2f and print it. Here are your starter words: dog is chien,\n",
    "#cat is chat, and walrus is morse.\n",
    "\n",
    "\n",
    "e2f = {'dog':'chien','cat':'chat','walrus':'morse'}"
   ]
  },
  {
   "cell_type": "code",
   "execution_count": null,
   "id": "83c47b33-3a07-4a87-b8ca-9e2068a96be5",
   "metadata": {},
   "outputs": [],
   "source": [
    "#Write the French word for walrus in your three-word dictionary e2f\n",
    "\n",
    "\n",
    "e2f['walrus']"
   ]
  },
  {
   "cell_type": "code",
   "execution_count": null,
   "id": "6652412f-22d2-4df8-b85f-c8fd66461cd8",
   "metadata": {},
   "outputs": [],
   "source": [
    "#Make a French-to-English dictionary called f2e from e2f. Use the items method\n",
    "\n",
    "f2e = dict((key,value) for value,key in e2f.items())\n",
    "f2e"
   ]
  },
  {
   "cell_type": "code",
   "execution_count": null,
   "id": "fddc404f-4519-47fa-abb2-1bf67c81f2f5",
   "metadata": {},
   "outputs": [],
   "source": [
    "#Print the English version of the French word chien using f2e.\n",
    "\n",
    "f2e['chien']"
   ]
  },
  {
   "cell_type": "code",
   "execution_count": null,
   "id": "8d676ecf-d95d-446e-b1e3-0b0cd8cd3203",
   "metadata": {},
   "outputs": [],
   "source": [
    "#ake and print a set of English words from the keys in e2f.\n",
    "\n",
    "e2f.keys()"
   ]
  },
  {
   "cell_type": "code",
   "execution_count": null,
   "id": "4d3ad697-8d77-44e5-a46c-0d6be26ed435",
   "metadata": {},
   "outputs": [],
   "source": [
    "Make a multilevel dictionary called life. Use these strings for the topmost keys: 'animals', 'plants', and\n",
    "'other'. Make the 'animals' key refer to another dictionary with the keys 'cats', 'octopi', and 'emus'. Make the \n",
    "'cats' key refer to a \n",
    "list of strings with the values 'Henri', 'Grumpy', and 'Lucy'. Make all the other keys refer to empty dictionaries."
   ]
  },
  {
   "cell_type": "code",
   "execution_count": null,
   "id": "ef7ec8de-49b4-4ec2-9855-8bce72e0904b",
   "metadata": {},
   "outputs": [],
   "source": [
    "life ={'animals':{'cat':['Henri', 'Grumpy', 'Lucy'], 'octopi':'', 'emus':''},\n",
    "       'plants' :'',\n",
    "       'other' :'' }\n",
    "life"
   ]
  },
  {
   "cell_type": "code",
   "execution_count": null,
   "id": "8f7879ea-7f45-4b57-bc4a-c0cc0d35e5ea",
   "metadata": {},
   "outputs": [],
   "source": [
    "Print the top-level keys of life."
   ]
  },
  {
   "cell_type": "code",
   "execution_count": null,
   "id": "e63a2c22-8b4a-4fa6-9898-a7a20ff072d0",
   "metadata": {},
   "outputs": [],
   "source": [
    "life.keys()\n",
    "\n"
   ]
  },
  {
   "cell_type": "code",
   "execution_count": null,
   "id": "5163083b-1d27-4b23-82b7-e89d84f1e9f8",
   "metadata": {},
   "outputs": [],
   "source": [
    "Q. Print the keys for life['animals']."
   ]
  },
  {
   "cell_type": "code",
   "execution_count": null,
   "id": "6d9fe46f-6b28-4c0e-980c-3af9f7c1fb75",
   "metadata": {},
   "outputs": [],
   "source": [
    "life['animals'].keys()"
   ]
  },
  {
   "cell_type": "code",
   "execution_count": null,
   "id": "37c3e46e-082f-48fd-b60a-870093fc182b",
   "metadata": {},
   "outputs": [],
   "source": [
    "Print the values for life['animals']['cat']"
   ]
  },
  {
   "cell_type": "code",
   "execution_count": null,
   "id": "9bebcaca-abd9-4ed4-b3b7-decf265c8a6e",
   "metadata": {},
   "outputs": [],
   "source": [
    "life['animals']['cat']"
   ]
  }
 ],
 "metadata": {
  "kernelspec": {
   "display_name": "Python 3 (ipykernel)",
   "language": "python",
   "name": "python3"
  },
  "language_info": {
   "codemirror_mode": {
    "name": "ipython",
    "version": 3
   },
   "file_extension": ".py",
   "mimetype": "text/x-python",
   "name": "python",
   "nbconvert_exporter": "python",
   "pygments_lexer": "ipython3",
   "version": "3.10.6"
  }
 },
 "nbformat": 4,
 "nbformat_minor": 5
}
