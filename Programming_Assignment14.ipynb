{
 "cells": [
  {
   "cell_type": "code",
   "execution_count": null,
   "id": "f5c28ed5-df70-4c4b-a299-f2af66c46df2",
   "metadata": {},
   "outputs": [],
   "source": [
    "1. Define a class with a generator which can iterate the numbers, which are divisible by\n",
    "7, between a given range 0 and n."
   ]
  },
  {
   "cell_type": "code",
   "execution_count": null,
   "id": "cbbbac2e-a0b3-40bf-8482-5b2df55c1c7b",
   "metadata": {},
   "outputs": [],
   "source": [
    "n = int(input())\n",
    "divBy7 = [i for i in range(0, n) if (i % 7 == 0)]\n",
    "print(divBy7)\n",
    "\n",
    "def divChecker(n):\n",
    "    for i in range(n):\n",
    "        if i % 7 == 0:\n",
    "            value = True\n",
    "        else:\n",
    "            value = False\n",
    "        print(i, value)\n",
    "\n",
    "divChecker(n)"
   ]
  },
  {
   "cell_type": "code",
   "execution_count": null,
   "id": "620414d7-eaf8-42de-8665-5c83c8f11dfe",
   "metadata": {},
   "outputs": [],
   "source": [
    "import operator\n",
    "\n",
    "text_line = input(\"Type in: \")\n",
    "\n",
    "freq_dict = {}\n",
    "\n",
    "for i in text_line.split(' '):\n",
    "    if i.isalpha():\n",
    "        if i not in freq_dict:\n",
    "            freq_dict[i] = 1\n",
    "        elif i in freq_dict:\n",
    "            freq_dict[i] = freq_dict[i] + 1\n",
    "    else:\n",
    "        pass\n",
    "\n",
    "sorted_freq_dict = sorted(freq_dict.items(), key = operator.itemgetter(0))\n",
    "print(sorted_freq_dict)\n",
    "\n",
    "for i in sorted_freq_dict:\n",
    "    print(i[0], i[1])"
   ]
  },
  {
   "cell_type": "code",
   "execution_count": null,
   "id": "65c433fd-a471-4ebd-b6e8-18e384c42ffb",
   "metadata": {},
   "outputs": [],
   "source": [
    "Define a class Person and its two child classes: Male and Female. All classes have a\n",
    "method &quot;getGender&quot; which can print &quot;Male&quot; for Male class and &quot;Female&quot; for Female\n",
    "class."
   ]
  },
  {
   "cell_type": "code",
   "execution_count": null,
   "id": "62ff29c4-5960-449a-9e0f-3afb82159c37",
   "metadata": {},
   "outputs": [],
   "source": [
    "class Person(object):\n",
    "    def getGender( self ):\n",
    "        return \"Unknown\"\n",
    "\n",
    "class Male( Person ):\n",
    "    def getGender( self ):\n",
    "        return \"Male\"\n",
    "\n",
    "class Female( Person ):\n",
    "    def getGender( self ):\n",
    "        return \"Female\"\n",
    "\n",
    "aMale = Male()\n",
    "aFemale= Female()\n",
    "print aMale.getGender()\n",
    "print aFemale.getGender()"
   ]
  },
  {
   "cell_type": "code",
   "execution_count": null,
   "id": "602da259-0f56-455d-b7dc-6127f829fa28",
   "metadata": {},
   "outputs": [],
   "source": [
    "Please write a program to generate all sentences where subject is in [\"I\", \"You\"] and\n",
    "verb is in [\"Play\", \"Love\"] and the object is in [\"Hockey\",\"Football\"]."
   ]
  },
  {
   "cell_type": "code",
   "execution_count": null,
   "id": "132dc6ed-5fa3-4e91-925f-c803ee0f4a2e",
   "metadata": {},
   "outputs": [],
   "source": [
    "def generate_sentences(subjects,verbs,objects):\n",
    "\t#start writing your code here\n",
    "\tlist=[]\n",
    "\tfor i in subjects:\n",
    "\t    for j in verbs:\n",
    "\t        for k in objects:\n",
    "\t            list.append(i+\" \"+j+\" \"+k)\n",
    "\treturn list \n",
    "\t           \n",
    "subjects=[\"I\",\"You\"]\n",
    "verbs=[\"love\", \"play\"]\n",
    "objects=[\"Hockey\",\"Football\"]\n",
    "print(generate_sentences(subjects,verbs,objects))"
   ]
  },
  {
   "cell_type": "code",
   "execution_count": null,
   "id": "76acc42c-da7e-4fdd-bbee-c88f6d0932ba",
   "metadata": {},
   "outputs": [],
   "source": [
    "Please write a program to compress and decompress the string &quot;hello world!hello\n",
    "world!hello world!hello world!&quot;."
   ]
  },
  {
   "cell_type": "code",
   "execution_count": null,
   "id": "2e9ab003-3e66-47d5-9ca2-367590af4c28",
   "metadata": {},
   "outputs": [],
   "source": [
    "import zlib\n",
    "text=\"Hello world\"\n",
    "comp=zlib.compress(text)\n",
    "print(\"Compressed: \", comp)\n",
    "decomp=zlib.decompress(text)\n",
    "print(\"Decompressed: \", decomp)"
   ]
  },
  {
   "cell_type": "code",
   "execution_count": null,
   "id": "e6178c3d-5c27-4f04-9f71-325b1cfdba70",
   "metadata": {},
   "outputs": [],
   "source": [
    "Please write a binary search function which searches an item in a sorted list. The\n",
    "function should return the index of element to be searched in the list."
   ]
  },
  {
   "cell_type": "code",
   "execution_count": null,
   "id": "acc5a422-10ba-4502-b20b-17cf3c90143c",
   "metadata": {},
   "outputs": [],
   "source": [
    "import math\n",
    "def bin_search(li, element):\n",
    "    bottom = 0\n",
    "    top = len(li)-1\n",
    "    index = -1\n",
    "    while top>=bottom and index==-1:\n",
    "        mid = int(math.floor((top+bottom)/2.0))\n",
    "        if li[mid]==element:\n",
    "            index = mid\n",
    "        elif li[mid]>element:\n",
    "            top = mid-1\n",
    "        else:\n",
    "            bottom = mid+1\n",
    "\n",
    "    return index\n",
    "\n",
    "li=[2,5,7,9,11,17,222]\n",
    "print bin_search(li,11)\n",
    "print bin_search(li,12)"
   ]
  }
 ],
 "metadata": {
  "kernelspec": {
   "display_name": "Python 3 (ipykernel)",
   "language": "python",
   "name": "python3"
  },
  "language_info": {
   "codemirror_mode": {
    "name": "ipython",
    "version": 3
   },
   "file_extension": ".py",
   "mimetype": "text/x-python",
   "name": "python",
   "nbconvert_exporter": "python",
   "pygments_lexer": "ipython3",
   "version": "3.10.6"
  }
 },
 "nbformat": 4,
 "nbformat_minor": 5
}
