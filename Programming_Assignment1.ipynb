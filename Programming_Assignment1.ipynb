{
 "cells": [
  {
   "cell_type": "code",
   "execution_count": 2,
   "id": "97580d1a-160d-405a-aa74-9bb802e2f9aa",
   "metadata": {},
   "outputs": [
    {
     "name": "stdout",
     "output_type": "stream",
     "text": [
      "Hello World\n"
     ]
    }
   ],
   "source": [
    "#Write a Python program to print &quot;Hello Python&quot;?\n",
    "\n",
    "print(\"Hello World\")"
   ]
  },
  {
   "cell_type": "code",
   "execution_count": 4,
   "id": "ae4738f2-6aab-42f6-a1fb-8743579c3439",
   "metadata": {},
   "outputs": [
    {
     "name": "stdin",
     "output_type": "stream",
     "text": [
      "Enter a number :  5\n",
      "Enter the second number :  2\n"
     ]
    },
    {
     "name": "stdout",
     "output_type": "stream",
     "text": [
      "Sum is :  7\n",
      "Division :  2.5\n"
     ]
    }
   ],
   "source": [
    "#2. Write a Python program to do arithmetical operations addition and division.?\n",
    "\n",
    "\n",
    "a=int(input(\"Enter a number : \"))\n",
    "b=int(input(\"Enter the second number : \"))\n",
    "\n",
    "print(\"Sum is : \", (a+b))\n",
    "print(\"Division : \", a/b)"
   ]
  },
  {
   "cell_type": "code",
   "execution_count": 5,
   "id": "10afcfdd-b95f-4ede-b1bd-ee1f6bc90179",
   "metadata": {},
   "outputs": [
    {
     "name": "stdin",
     "output_type": "stream",
     "text": [
      "Base :  4\n",
      "Height :  6\n"
     ]
    },
    {
     "name": "stdout",
     "output_type": "stream",
     "text": [
      "Area :  12.0\n"
     ]
    }
   ],
   "source": [
    "# 3. Write a Python program to find the area of a triangle?\n",
    "\n",
    "a=float(input(\"Base : \"))\n",
    "b=float(input(\"Height : \"))\n",
    "\n",
    "print(\"Area : \", (a*b)/2)"
   ]
  },
  {
   "cell_type": "code",
   "execution_count": 9,
   "id": "258217a3-7270-47a8-8185-26f92501a757",
   "metadata": {},
   "outputs": [
    {
     "name": "stdin",
     "output_type": "stream",
     "text": [
      "Num1 :  1\n",
      "Num2 :  2\n"
     ]
    },
    {
     "name": "stdout",
     "output_type": "stream",
     "text": [
      "a and b after swapping are :  2 , 1\n"
     ]
    }
   ],
   "source": [
    "#4. Write a Python program to swap two variables?\n",
    "\n",
    "a=input(\"Num1 : \")\n",
    "b=input(\"Num2 : \")\n",
    "\n",
    "temp=a\n",
    "a=b\n",
    "b=temp\n",
    "\n",
    "print(\"a and b after swapping are : \", a,\",\",b)"
   ]
  },
  {
   "cell_type": "code",
   "execution_count": 13,
   "id": "d66a9385-07f1-4b52-a0b5-39a815e367b9",
   "metadata": {},
   "outputs": [
    {
     "data": {
      "text/plain": [
       "63"
      ]
     },
     "execution_count": 13,
     "metadata": {},
     "output_type": "execute_result"
    }
   ],
   "source": [
    "#5. Write a Python program to generate a random number?\n",
    "\n",
    "import random\n",
    "\n",
    "random.randint(1,1000)"
   ]
  },
  {
   "cell_type": "code",
   "execution_count": null,
   "id": "394affa6-53b2-4a88-80d8-d27b77275dc3",
   "metadata": {},
   "outputs": [],
   "source": []
  }
 ],
 "metadata": {
  "kernelspec": {
   "display_name": "Python 3 (ipykernel)",
   "language": "python",
   "name": "python3"
  },
  "language_info": {
   "codemirror_mode": {
    "name": "ipython",
    "version": 3
   },
   "file_extension": ".py",
   "mimetype": "text/x-python",
   "name": "python",
   "nbconvert_exporter": "python",
   "pygments_lexer": "ipython3",
   "version": "3.10.6"
  }
 },
 "nbformat": 4,
 "nbformat_minor": 5
}
