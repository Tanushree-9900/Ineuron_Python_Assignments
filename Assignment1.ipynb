{
  "nbformat": 4,
  "nbformat_minor": 0,
  "metadata": {
    "colab": {
      "provenance": []
    },
    "kernelspec": {
      "name": "python3",
      "display_name": "Python 3"
    },
    "language_info": {
      "name": "python"
    }
  },
  "cells": [
    {
      "cell_type": "code",
      "execution_count": null,
      "metadata": {
        "id": "q8zag0NTxIr3"
      },
      "outputs": [],
      "source": [
        "1. In the below elements which of them are values or an expression? eg:- values can be\n",
        "integer or string and expressions will be mathematical operators.\n",
        "*                 - expression\n",
        "&#39;hello&#39;   - value\n",
        "-87.8             - value\n",
        "-                 - expression\n",
        "/                 - expression\n",
        "+                 - expression"
      ]
    },
    {
      "cell_type": "code",
      "source": [
        "2. What is the difference between string and variable?\n",
        "\n",
        "String:\n",
        "It is a datatype in Python which consists of characters enclosed in single or double quotes.\n",
        "example : \"Hello\"\n",
        "\n",
        "Variable:\n",
        "is a reference or a pointer to an object. Variables can hold values of any datatypes.\n",
        "example : Hello = 123"
      ],
      "metadata": {
        "id": "aAPXeCN_5iZJ"
      },
      "execution_count": null,
      "outputs": []
    },
    {
      "cell_type": "code",
      "source": [
        "3. Describe three different data types.\n",
        "\n",
        "Integer - whole number values\n",
        "Float - decimal numbers\n",
        "String - a charater or set of characters enclosed in single or double quotes."
      ],
      "metadata": {
        "id": "9q9F6XCW6pG0"
      },
      "execution_count": null,
      "outputs": []
    },
    {
      "cell_type": "code",
      "source": [
        "4. What is an expression made up of? What do all expressions do?\n",
        "\n",
        "An expression is made up of operators, variables and consonants.\n",
        "Expressions are used to perform any mathematical or logical operations."
      ],
      "metadata": {
        "id": "4g2ATnMI7MuF"
      },
      "execution_count": null,
      "outputs": []
    },
    {
      "cell_type": "code",
      "source": [],
      "metadata": {
        "id": "A3QJfIUA7d2Y"
      },
      "execution_count": null,
      "outputs": []
    },
    {
      "cell_type": "code",
      "source": [
        "5. This assignment statements, like spam = 10. What is the difference between an\n",
        "expression and a statement?\n",
        "\n",
        "spam = 10 is a statement\n",
        "A statement in Python is used for creating variables or for displaying values. The expression in Python produces some value or result."
      ],
      "metadata": {
        "id": "Ff2hobeK7eFe"
      },
      "execution_count": null,
      "outputs": []
    },
    {
      "cell_type": "code",
      "source": [
        "6. After running the following code, what does the variable bacon contain?\n",
        "bacon = 22\n",
        "bacon + 1\n",
        "\n",
        "the value of the vaiable bacon is 22"
      ],
      "metadata": {
        "id": "w2LCinTj78En"
      },
      "execution_count": null,
      "outputs": []
    },
    {
      "cell_type": "code",
      "source": [
        "#7. What should the values of the following two terms be?\n",
        "'spam' + 'spamspam'\n",
        "\n",
        "O/P -> spamspamspam\n",
        "\n",
        "'spam' * 3\n",
        "\n",
        "O/P -> spamspamspam"
      ],
      "metadata": {
        "colab": {
          "base_uri": "https://localhost:8080/",
          "height": 36
        },
        "id": "BhpiK4498gX1",
        "outputId": "65de9d7f-f76b-4f28-ab62-383042c39bdd"
      },
      "execution_count": 4,
      "outputs": [
        {
          "output_type": "execute_result",
          "data": {
            "text/plain": [
              "'spamspamspam'"
            ],
            "application/vnd.google.colaboratory.intrinsic+json": {
              "type": "string"
            }
          },
          "metadata": {},
          "execution_count": 4
        }
      ]
    },
    {
      "cell_type": "code",
      "source": [
        "8. Why is eggs a valid variable name while 100 is invalid?\n",
        "\n",
        "Vaiable names should start with alphabets.\n",
        "It should not contain any special characters.\n",
        "It can be a combination of numbers and characters but not only numbers."
      ],
      "metadata": {
        "id": "bYflHAEY9B1H"
      },
      "execution_count": null,
      "outputs": []
    },
    {
      "cell_type": "code",
      "source": [
        "9. What three functions can be used to get the integer, floating-point number, or string\n",
        "version of a value?\n",
        "\n",
        "int()\n",
        "float()\n",
        "str()"
      ],
      "metadata": {
        "id": "s9rkkKMt98Vs"
      },
      "execution_count": null,
      "outputs": []
    },
    {
      "cell_type": "code",
      "source": [
        "#10. Why does this expression cause an error? How can you fix it?\n",
        "'I ate' +99+ 'burritos.'\n",
        "\n",
        "The error is thrown as two different datatypes (string and integer) cannot be concatenated. \n",
        "The error can be fixed by assigning the value 99 to a variable and then print it.\n",
        "\n",
        "numb = 99\n",
        "print(f\"I ate {numb} burritos.\")"
      ],
      "metadata": {
        "id": "BnE4L1lR-Pwg"
      },
      "execution_count": null,
      "outputs": []
    }
  ]
}