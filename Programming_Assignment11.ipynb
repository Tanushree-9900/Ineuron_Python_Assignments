{
 "cells": [
  {
   "cell_type": "code",
   "execution_count": null,
   "id": "d8c42d0d-48ee-4b16-b79c-f41039e11ccb",
   "metadata": {},
   "outputs": [],
   "source": [
    "#Write a Python program to find words which are greater than given length k?\n",
    "\n",
    "S = \"hello geeks for geeks is computer science portal\"\n",
    "K = 4\n",
    "s = S.split(\" \")\n",
    "l = list(filter(lambda x: (len(x) > K), s))\n",
    " \n",
    "print(l)"
   ]
  },
  {
   "cell_type": "code",
   "execution_count": null,
   "id": "8168f479-a3db-4f21-8faf-a42f22a1036e",
   "metadata": {},
   "outputs": [],
   "source": [
    "#Write a Python program for removing i-th character from a string?\n",
    "\n",
    "def remove(string, i):\n",
    "  \n",
    "    for j in range(len(string)):\n",
    "        if j == i:\n",
    "            string = string.replace(string[i], \"\", 1)\n",
    "    return string\n",
    "  \n",
    "  \n",
    "# Driver Code\n",
    "if __name__ == '__main__':\n",
    "  \n",
    "    string = \"geeksFORgeeks\"\n",
    "  \n",
    "    # Remove nth index element\n",
    "    i = 5\n",
    "  \n",
    "    # Print the new string\n",
    "    print(remove(string, i))"
   ]
  },
  {
   "cell_type": "code",
   "execution_count": 1,
   "id": "4da1b743-b739-400a-a25e-b1d81b6114ca",
   "metadata": {},
   "outputs": [
    {
     "name": "stdout",
     "output_type": "stream",
     "text": [
      "['Hello', 'world']\n",
      "Hello-world\n"
     ]
    }
   ],
   "source": [
    "#Write a Python program to split and join a string?\n",
    "\n",
    "s = 'Hello world'\n",
    "# print the string after split method\n",
    "print(s.split(\" \"))\n",
    "# print the string after join method\n",
    "print(\"-\".join(s.split()))"
   ]
  },
  {
   "cell_type": "code",
   "execution_count": null,
   "id": "be6e1783-1a3f-436b-ba55-d2d1b91f44d3",
   "metadata": {},
   "outputs": [],
   "source": [
    "#Write a Python to check if a given string is binary string or not?\n",
    "\n",
    "def check(string):\n",
    "    try:\n",
    "        # this will raise value error if\n",
    "        # string is not of base 2\n",
    "        int(string, 2)\n",
    "    except ValueError:\n",
    "        return \"No\"\n",
    "    return \"Yes\"\n",
    " \n",
    " \n",
    "# driver code\n",
    "if __name__ == \"__main__\":\n",
    " \n",
    "    string1 = \"101011000111\"\n",
    "    string2 = \"201000001\"\n",
    " \n",
    "    # function calling\n",
    "    print(check(string1))\n",
    "    print(check(string2))"
   ]
  },
  {
   "cell_type": "code",
   "execution_count": null,
   "id": "d0e78767-f415-4715-90bc-ed96817c63f4",
   "metadata": {},
   "outputs": [],
   "source": [
    "#Write a Python program to find uncommon words from two Strings?\n",
    "\n",
    "def UncommonWords(A, B):\n",
    "    A=A.split()\n",
    "    B=B.split()\n",
    "    x=[]\n",
    "    for i in A:\n",
    "        if i not in B:\n",
    "            x.append(i)\n",
    "    for i in B:\n",
    "        if i not in A:\n",
    "            x.append(i)\n",
    "    x=list(set(x))\n",
    "    return x\n",
    "             \n",
    " \n",
    "# Driver Code\n",
    "A = \"Geeks for Geeks\"\n",
    "B = \"Learning from Geeks for Geeks\"\n",
    " \n",
    "# Print required answer\n",
    "print(UncommonWords(A, B))\n"
   ]
  },
  {
   "cell_type": "code",
   "execution_count": null,
   "id": "0bc2a0a3-cf5c-4131-ada2-7f743ba97741",
   "metadata": {},
   "outputs": [],
   "source": [
    "#Write a Python to find all duplicate characters in string?\n",
    "\n",
    "def duplicate_characters(string):\n",
    "    # Create an empty dictionary\n",
    "    chars = {}\n",
    " \n",
    "    # Iterate through each character in the string\n",
    "    for char in string:\n",
    "        # If the character is not in the dictionary, add it\n",
    "        if char not in chars:\n",
    "            chars[char] = 1\n",
    "        else:\n",
    "            # If the character is already in the dictionary, increment the count\n",
    "            chars[char] += 1\n",
    " \n",
    "    # Create a list to store the duplicate characters\n",
    "    duplicates = []\n",
    " \n",
    "    # Iterate through the dictionary to find characters with count greater than 1\n",
    "    for char, count in chars.items():\n",
    "        if count > 1:\n",
    "            duplicates.append(char)\n",
    " \n",
    "    return duplicates\n",
    "\n",
    "\n",
    "# Test cases\n",
    "print(duplicate_characters(\"geeksforgeeks\"))"
   ]
  },
  {
   "cell_type": "code",
   "execution_count": null,
   "id": "197cd5b0-5901-4ab3-b0ef-61e8274fc546",
   "metadata": {},
   "outputs": [],
   "source": [
    "#Write a Python Program to check if a string contains any special character?\n",
    "\n",
    "n = \"Geeks$For$Geeks\"\n",
    "n.split()\n",
    "c = 0\n",
    "s = '[@_!#$%^&*()<>?/\\|}{~:]'  # special character set\n",
    "for i in range(len(n)):\n",
    "    # checking if any special character is present in given string or not\n",
    "    if n[i] in s:\n",
    "        c += 1   # if special character found then add 1 to the c\n",
    " \n",
    "# if c value is greater than 0 then print no\n",
    "# means special character is found in string\n",
    "if c:\n",
    "    print(\"string is not accepted\")\n",
    "else:\n",
    "    print(\"string accepted\")"
   ]
  }
 ],
 "metadata": {
  "kernelspec": {
   "display_name": "Python 3 (ipykernel)",
   "language": "python",
   "name": "python3"
  },
  "language_info": {
   "codemirror_mode": {
    "name": "ipython",
    "version": 3
   },
   "file_extension": ".py",
   "mimetype": "text/x-python",
   "name": "python",
   "nbconvert_exporter": "python",
   "pygments_lexer": "ipython3",
   "version": "3.10.6"
  }
 },
 "nbformat": 4,
 "nbformat_minor": 5
}
