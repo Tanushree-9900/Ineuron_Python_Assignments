{
  "nbformat": 4,
  "nbformat_minor": 0,
  "metadata": {
    "colab": {
      "provenance": []
    },
    "kernelspec": {
      "name": "python3",
      "display_name": "Python 3"
    },
    "language_info": {
      "name": "python"
    }
  },
  "cells": [
    {
      "cell_type": "code",
      "execution_count": null,
      "metadata": {
        "id": "KLKjZCQwAqNa"
      },
      "outputs": [],
      "source": [
        "#1.What are the two values of the Boolean data type? How do you write them?\n",
        "\n",
        "The two values of the Boolean datatypes are True and False.\n",
        "one = True\n",
        "two = False"
      ]
    },
    {
      "cell_type": "code",
      "source": [
        "#2. What are the three different types of Boolean operators?\n",
        "\n",
        "and\n",
        "or\n",
        "not"
      ],
      "metadata": {
        "id": "QkIpjEfJTgWd"
      },
      "execution_count": null,
      "outputs": []
    },
    {
      "cell_type": "code",
      "source": [
        "#3. Make a list of each Boolean operator's truth tables (i.e. every possible combination of Booleanvalues for the operator and what it evaluate ).\n",
        "\n",
        "and\n",
        "0     0      0\n",
        "0     1      0\n",
        "1     0      0\n",
        "1     1      1\n",
        "\n",
        "or\n",
        "0     0      0\n",
        "0     1      1\n",
        "1     0      1\n",
        "1     1      1\n",
        "\n",
        "not\n",
        "0     1\n",
        "1     0"
      ],
      "metadata": {
        "id": "RIjeS5z6pheA"
      },
      "execution_count": null,
      "outputs": []
    },
    {
      "cell_type": "code",
      "source": [
        "#4. What are the values of the following expressions?\n",
        "\n",
        "(5 > 4) and (3 == 5)                      False\n",
        "not (5 > 4)                               False\n",
        "(5 > 4) or (3 == 5)                       True\n",
        "not ((5 > 4) or (3 == 5))                 False\n",
        "(True and True) and (True == False)       False\n",
        "(not False) or (not True)                 True"
      ],
      "metadata": {
        "id": "qli7dWLGrn4d"
      },
      "execution_count": null,
      "outputs": []
    },
    {
      "cell_type": "code",
      "source": [
        "#5. What are the six comparison operators?\n",
        "\n",
        "==\n",
        ">\n",
        "<\n",
        ">=\n",
        "<=\n",
        "!="
      ],
      "metadata": {
        "id": "iIYCL5INsMd-"
      },
      "execution_count": null,
      "outputs": []
    },
    {
      "cell_type": "code",
      "source": [
        "#6. How do you tell the difference between the equal to and assignment operators? Describe a condition and when you would use one.\n",
        "\n",
        "Assignment operator (=) is used to assign a value to a variable where as an equal to (==) operator checks if both the values are equal\n",
        "\n",
        "example of assignment operator, \n",
        "    name = 'ABC'\n",
        "\n",
        "exaple of equal to operator,\n",
        "    8 == 9"
      ],
      "metadata": {
        "id": "cpSqtmfjsnhG"
      },
      "execution_count": null,
      "outputs": []
    },
    {
      "cell_type": "code",
      "source": [
        "#7. Identify the three blocks in this code:\n",
        "spam = 0\n",
        "if spam == 10:\n",
        "  print('eggs')\n",
        "if spam > 5:\n",
        "    print('bacon')\n",
        "else:\n",
        "    print('ham')\n",
        "    print('spam')\n",
        "print('spam')"
      ],
      "metadata": {
        "id": "I_PMfefPtTNA"
      },
      "execution_count": null,
      "outputs": []
    },
    {
      "cell_type": "code",
      "source": [
        "#8. Write code that prints Hello if 1 is stored in spam, prints Howdy if 2 is stored in spam, and prints Greetings! if anything else is stored in spam.\n",
        "\n",
        "spam = input(\"How do you want to greet? 1/2/anything else \")\n",
        "\n",
        "if spam ==\"1\" :\n",
        "    print(f\"Entered value is {spam} - Hello\")\n",
        "elif spam == \"2\" :\n",
        "    print(f'Entered value is {spam} - \"Howdy\"')\n",
        "elif spam != \"1\" and spam != \"2\":\n",
        "    print(\"Greetings!\")"
      ],
      "metadata": {
        "id": "LFEDZNPCuZ2o"
      },
      "execution_count": null,
      "outputs": []
    },
    {
      "cell_type": "code",
      "source": [
        "#9.If your programme is stuck in an endless loop, what keys you’ll press?\n",
        "\n",
        "CTRL+C"
      ],
      "metadata": {
        "id": "KpwlcfKCzyrE"
      },
      "execution_count": null,
      "outputs": []
    },
    {
      "cell_type": "code",
      "source": [
        "#10. How can you tell the difference between break and continue?\n",
        "\n",
        "Break statement is used to end the execution of a loop when a condition is met.\n",
        "\n",
        "Continue skips the statements after continue keyword "
      ],
      "metadata": {
        "id": "ATzLn68Y0_IF"
      },
      "execution_count": null,
      "outputs": []
    },
    {
      "cell_type": "code",
      "source": [
        "#11. In a for loop, what is the difference between range(10), range(0, 10), and range(0, 10, 1)?\n",
        "\n",
        "range(10) prints numbers from 0 to 9. By default it takes 0 as the firstnumber\n",
        "range(1,10) indexes from 1 to 9. It takes 1 as the first nuber\n",
        "range(0,10,1)"
      ],
      "metadata": {
        "id": "F20RW8Cv1DNq"
      },
      "execution_count": null,
      "outputs": []
    },
    {
      "cell_type": "code",
      "source": [
        "#12. Write a short program that prints the numbers 1 to 10 using a for loop. Then write an equivalent program that prints the numbers 1 to 10 using a while loop.\n",
        "\n",
        "#Using for loop:\n",
        "i = 0\n",
        "for i in range(1, 11) :\n",
        "  print(f\"{i}\")\n",
        "\n",
        "#Using while loop:\n",
        "\n",
        "range = 10\n",
        "i = 1\n",
        "while i <=10:\n",
        "  print(f\"{i}\")\n",
        "  i=i+1 "
      ],
      "metadata": {
        "id": "mwYur9cB1EMB"
      },
      "execution_count": null,
      "outputs": []
    },
    {
      "cell_type": "code",
      "source": [
        "f = 0\n",
        "print(f\"{type(f)}\")\n",
        "print(f\"{f}\")\n",
        "#x=int(i)\n",
        "for f in range (1,10):\n",
        "  print(f\"{f}\")"
      ],
      "metadata": {
        "colab": {
          "base_uri": "https://localhost:8080/"
        },
        "id": "9UJ7qYRW5bCo",
        "outputId": "0c0f2624-749c-4301-c1eb-53c7cc07cbae"
      },
      "execution_count": null,
      "outputs": [
        {
          "output_type": "stream",
          "name": "stdout",
          "text": [
            "<class 'int'>\n",
            "0\n",
            "1\n",
            "2\n",
            "3\n",
            "4\n",
            "5\n",
            "6\n",
            "7\n",
            "8\n",
            "9\n"
          ]
        }
      ]
    },
    {
      "cell_type": "code",
      "source": [
        "#13. If you had a function named bacon() inside a module named spam, how would you call it after\n",
        "importing spam?"
      ],
      "metadata": {
        "id": "zLmIo1KQ1JQc"
      },
      "execution_count": null,
      "outputs": []
    },
    {
      "cell_type": "code",
      "source": [
        "spam.bacon()"
      ],
      "metadata": {
        "id": "dY-jHuNDDti6"
      },
      "execution_count": null,
      "outputs": []
    }
  ]
}